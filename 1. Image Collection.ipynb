{
 "cells": [
  {
   "cell_type": "markdown",
   "metadata": {},
   "source": [
    "# 1. Import Dependencies"
   ]
  },
  {
   "cell_type": "code",
   "execution_count": 2,
   "metadata": {},
   "outputs": [
    {
     "name": "stdout",
     "output_type": "stream",
     "text": [
      "Requirement already satisfied: opencv-python in /Users/dhruvengineer/opt/anaconda3/lib/python3.8/site-packages (4.5.4.58)\r\n",
      "Requirement already satisfied: numpy>=1.17.3 in /Users/dhruvengineer/opt/anaconda3/lib/python3.8/site-packages (from opencv-python) (1.19.5)\r\n"
     ]
    }
   ],
   "source": [
    "%pip install opencv-python"
   ]
  },
  {
   "cell_type": "code",
   "execution_count": 3,
   "metadata": {},
   "outputs": [],
   "source": [
    "# Import opencv\n",
    "import cv2 \n",
    "\n",
    "# Import uuid\n",
    "import uuid\n",
    "\n",
    "# Import Operating System\n",
    "import os\n",
    "\n",
    "# Import time\n",
    "import time"
   ]
  },
  {
   "cell_type": "markdown",
   "metadata": {},
   "source": [
    "# 2. Define Images to Collect"
   ]
  },
  {
   "cell_type": "code",
   "execution_count": 4,
   "metadata": {},
   "outputs": [],
   "source": [
    "labels = ['nike_sacai_blazzer_low_iron_gray', 'nike_roshe_pure_white']\n",
    "number_imgs = 16"
   ]
  },
  {
   "cell_type": "code",
   "execution_count": 5,
   "metadata": {},
   "outputs": [
    {
     "data": {
      "text/plain": [
       "['nike_sacai_blazzer_low_iron_gray', 'nike_roshe_pure_white']"
      ]
     },
     "execution_count": 5,
     "metadata": {},
     "output_type": "execute_result"
    }
   ],
   "source": [
    "labels"
   ]
  },
  {
   "cell_type": "markdown",
   "metadata": {},
   "source": [
    "# 3. Setup Folders "
   ]
  },
  {
   "cell_type": "code",
   "execution_count": 6,
   "metadata": {},
   "outputs": [],
   "source": [
    "IMAGES_PATH = os.path.join('Tensorflow', 'workspace', 'images', 'collectedimages')"
   ]
  },
  {
   "cell_type": "code",
   "execution_count": 7,
   "metadata": {},
   "outputs": [],
   "source": [
    "if not os.path.exists(IMAGES_PATH):\n",
    "    if os.name == 'posix':\n",
    "        !mkdir -p {IMAGES_PATH}\n",
    "    if os.name == 'nt':\n",
    "         !mkdir {IMAGES_PATH}\n",
    "for label in labels:\n",
    "    path = os.path.join(IMAGES_PATH, label)\n",
    "    if not os.path.exists(path):\n",
    "        !mkdir {path}"
   ]
  },
  {
   "cell_type": "markdown",
   "metadata": {},
   "source": [
    "# 4. Capture Images"
   ]
  },
  {
   "cell_type": "code",
   "execution_count": 8,
   "metadata": {},
   "outputs": [],
   "source": [
    "# for label in labels:\n",
    "#     cap = cv2.VideoCapture(0)\n",
    "#     print('Collecting images for {}'.format(label))\n",
    "#     time.sleep(5)\n",
    "#     for imgnum in range(number_imgs):\n",
    "#         print('Collecting image {}'.format(imgnum))\n",
    "#         ret, frame = cap.read()\n",
    "#         imgname = os.path.join(IMAGES_PATH,label,label+'.'+'{}.jpg'.format(str(uuid.uuid1())))\n",
    "#         cv2.imwrite(imgname, frame)\n",
    "#         cv2.imshow('frame', frame)\n",
    "#         time.sleep(2)\n",
    "\n",
    "#         if cv2.waitKey(1) & 0xFF == ord('q'):\n",
    "#             break\n",
    "# cap.release()\n",
    "# cv2.destroyAllWindows()"
   ]
  },
  {
   "cell_type": "markdown",
   "metadata": {},
   "source": [
    "# 5. Image Labelling"
   ]
  },
  {
   "cell_type": "code",
   "execution_count": 9,
   "metadata": {},
   "outputs": [
    {
     "name": "stdout",
     "output_type": "stream",
     "text": [
      "Requirement already satisfied: pyqt5 in /Users/dhruvengineer/opt/anaconda3/lib/python3.8/site-packages (5.15.5)\n",
      "Requirement already satisfied: lxml in /Users/dhruvengineer/opt/anaconda3/lib/python3.8/site-packages (4.6.3)\n",
      "Requirement already satisfied: PyQt5-sip<13,>=12.8 in /Users/dhruvengineer/opt/anaconda3/lib/python3.8/site-packages (from pyqt5) (12.9.0)\n",
      "Requirement already satisfied: PyQt5-Qt5>=5.15.2 in /Users/dhruvengineer/opt/anaconda3/lib/python3.8/site-packages (from pyqt5) (5.15.2)\n"
     ]
    }
   ],
   "source": [
    "!pip install --upgrade pyqt5 lxml"
   ]
  },
  {
   "cell_type": "code",
   "execution_count": 10,
   "metadata": {},
   "outputs": [
    {
     "name": "stdout",
     "output_type": "stream",
     "text": [
      "Package                            Version\r\n",
      "---------------------------------- -------------------\r\n",
      "absl-py                            0.12.0\r\n",
      "alabaster                          0.7.12\r\n",
      "anaconda-client                    1.7.2\r\n",
      "anaconda-navigator                 2.0.3\r\n",
      "anaconda-project                   0.9.1\r\n",
      "anyio                              2.2.0\r\n",
      "apache-beam                        2.33.0\r\n",
      "appdirs                            1.4.4\r\n",
      "applaunchservices                  0.2.1\r\n",
      "appnope                            0.1.2\r\n",
      "appscript                          1.1.2\r\n",
      "argh                               0.26.2\r\n",
      "argon2-cffi                        20.1.0\r\n",
      "asn1crypto                         1.4.0\r\n",
      "astroid                            2.5\r\n",
      "astropy                            4.2.1\r\n",
      "astunparse                         1.6.3\r\n",
      "async-generator                    1.10\r\n",
      "atomicwrites                       1.4.0\r\n",
      "attrs                              20.3.0\r\n",
      "autopep8                           1.5.6\r\n",
      "avro-python3                       1.9.2.1\r\n",
      "Babel                              2.9.0\r\n",
      "backcall                           0.2.0\r\n",
      "backports.functools-lru-cache      1.6.4\r\n",
      "backports.shutil-get-terminal-size 1.0.0\r\n",
      "backports.tempfile                 1.0\r\n",
      "backports.weakref                  1.0.post1\r\n",
      "beautifulsoup4                     4.9.3\r\n",
      "bitarray                           1.9.2\r\n",
      "bkcharts                           0.2\r\n",
      "black                              19.10b0\r\n",
      "bleach                             3.3.0\r\n",
      "bokeh                              2.3.2\r\n",
      "boto                               2.49.0\r\n",
      "Bottleneck                         1.3.2\r\n",
      "brotlipy                           0.7.0\r\n",
      "cachetools                         4.2.4\r\n",
      "certifi                            2020.12.5\r\n",
      "cffi                               1.14.5\r\n",
      "chardet                            4.0.0\r\n",
      "clang                              5.0\r\n",
      "click                              7.1.2\r\n",
      "cloudpickle                        1.6.0\r\n",
      "clyent                             1.2.2\r\n",
      "colorama                           0.4.4\r\n",
      "conda                              4.10.3\r\n",
      "conda-build                        3.21.4\r\n",
      "conda-content-trust                0+unknown\r\n",
      "conda-package-handling             1.7.3\r\n",
      "conda-repo-cli                     1.0.4\r\n",
      "conda-token                        0.3.0\r\n",
      "conda-verify                       3.4.2\r\n",
      "contextlib2                        0.6.0.post1\r\n",
      "crcmod                             1.7\r\n",
      "cryptography                       3.4.7\r\n",
      "cycler                             0.10.0\r\n",
      "Cython                             0.29.23\r\n",
      "cytoolz                            0.11.0\r\n",
      "dask                               2021.4.0\r\n",
      "decorator                          5.0.6\r\n",
      "defusedxml                         0.7.1\r\n",
      "diff-match-patch                   20200713\r\n",
      "dill                               0.3.1.1\r\n",
      "distributed                        2021.4.0\r\n",
      "dm-tree                            0.1.6\r\n",
      "docopt                             0.6.2\r\n",
      "docutils                           0.17\r\n",
      "entrypoints                        0.3\r\n",
      "et-xmlfile                         1.0.1\r\n",
      "fastavro                           1.4.6\r\n",
      "fastcache                          1.1.0\r\n",
      "filelock                           3.0.12\r\n",
      "flake8                             3.9.0\r\n",
      "Flask                              1.1.2\r\n",
      "flatbuffers                        1.12\r\n",
      "fsspec                             0.9.0\r\n",
      "future                             0.18.2\r\n",
      "gast                               0.4.0\r\n",
      "gevent                             21.1.2\r\n",
      "gin-config                         0.4.0\r\n",
      "glob2                              0.7\r\n",
      "gmpy2                              2.0.8\r\n",
      "google-api-core                    2.1.1\r\n",
      "google-api-python-client           2.27.0\r\n",
      "google-auth                        2.3.1\r\n",
      "google-auth-httplib2               0.1.0\r\n",
      "google-auth-oauthlib               0.4.6\r\n",
      "google-pasta                       0.2.0\r\n",
      "googleapis-common-protos           1.53.0\r\n",
      "greenlet                           1.0.0\r\n",
      "grpcio                             1.41.1\r\n",
      "h5py                               3.1.0\r\n",
      "hdfs                               2.6.0\r\n",
      "HeapDict                           1.0.1\r\n",
      "html5lib                           1.1\r\n",
      "httplib2                           0.19.1\r\n",
      "idna                               2.10\r\n",
      "imageio                            2.9.0\r\n",
      "imagesize                          1.2.0\r\n",
      "importlib-metadata                 3.10.0\r\n",
      "importlib-resources                5.3.0\r\n",
      "iniconfig                          1.1.1\r\n",
      "intervaltree                       3.1.0\r\n",
      "ipykernel                          5.3.4\r\n",
      "ipython                            7.22.0\r\n",
      "ipython-genutils                   0.2.0\r\n",
      "ipywidgets                         7.6.3\r\n",
      "isort                              5.8.0\r\n",
      "itsdangerous                       1.1.0\r\n",
      "jdcal                              1.4.1\r\n",
      "jedi                               0.17.2\r\n",
      "Jinja2                             2.11.3\r\n",
      "joblib                             1.0.1\r\n",
      "json5                              0.9.5\r\n",
      "jsonschema                         3.2.0\r\n",
      "jupyter                            1.0.0\r\n",
      "jupyter-client                     6.1.12\r\n",
      "jupyter-console                    6.4.0\r\n",
      "jupyter-core                       4.7.1\r\n",
      "jupyter-packaging                  0.7.12\r\n",
      "jupyter-server                     1.4.1\r\n",
      "jupyterlab                         3.0.14\r\n",
      "jupyterlab-pygments                0.1.2\r\n",
      "jupyterlab-server                  2.4.0\r\n",
      "jupyterlab-widgets                 1.0.0\r\n",
      "kaggle                             1.5.12\r\n",
      "keras                              2.6.0\r\n",
      "Keras-Preprocessing                1.1.2\r\n",
      "keyring                            22.3.0\r\n",
      "kiwisolver                         1.3.1\r\n",
      "lazy-object-proxy                  1.6.0\r\n",
      "libarchive-c                       2.9\r\n",
      "llvmlite                           0.36.0\r\n",
      "locket                             0.2.1\r\n",
      "lvis                               0.5.3\r\n",
      "lxml                               4.6.3\r\n",
      "Markdown                           3.3.4\r\n",
      "MarkupSafe                         1.1.1\r\n",
      "matplotlib                         3.3.4\r\n",
      "mccabe                             0.6.1\r\n",
      "mistune                            0.8.4\r\n",
      "mkl-fft                            1.3.0\r\n",
      "mkl-random                         1.2.1\r\n",
      "mkl-service                        2.3.0\r\n",
      "mock                               4.0.3\r\n",
      "more-itertools                     8.7.0\r\n",
      "mpmath                             1.2.1\r\n",
      "msgpack                            1.0.2\r\n",
      "multipledispatch                   0.6.0\r\n",
      "mypy-extensions                    0.4.3\r\n",
      "navigator-updater                  0.2.1\r\n",
      "nbclassic                          0.2.6\r\n",
      "nbclient                           0.5.3\r\n",
      "nbconvert                          6.0.7\r\n",
      "nbformat                           5.1.3\r\n",
      "nest-asyncio                       1.5.1\r\n",
      "networkx                           2.5\r\n",
      "nltk                               3.6.1\r\n",
      "nose                               1.3.7\r\n",
      "notebook                           6.3.0\r\n",
      "numba                              0.53.1\r\n",
      "numexpr                            2.7.3\r\n",
      "numpy                              1.19.5\r\n",
      "numpydoc                           1.1.0\r\n",
      "oauth2client                       4.1.3\r\n",
      "oauthlib                           3.1.1\r\n",
      "object-detection                   0.1\r\n",
      "olefile                            0.46\r\n",
      "opencv-python                      4.5.4.58\r\n",
      "opencv-python-headless             4.5.4.58\r\n",
      "openpyxl                           3.0.7\r\n",
      "opt-einsum                         3.3.0\r\n",
      "orjson                             3.6.4\r\n",
      "packaging                          20.9\r\n",
      "pandas                             1.2.4\r\n",
      "pandocfilters                      1.4.3\r\n",
      "parso                              0.7.0\r\n",
      "partd                              1.2.0\r\n",
      "path                               15.1.2\r\n",
      "pathlib2                           2.3.5\r\n",
      "pathspec                           0.7.0\r\n",
      "patsy                              0.5.1\r\n",
      "pep8                               1.7.1\r\n",
      "pexpect                            4.8.0\r\n",
      "pickleshare                        0.7.5\r\n",
      "Pillow                             8.2.0\r\n",
      "pip                                21.3.1\r\n",
      "pkginfo                            1.7.0\r\n",
      "pluggy                             0.13.1\r\n",
      "ply                                3.11\r\n",
      "portalocker                        2.3.2\r\n",
      "prometheus-client                  0.10.1\r\n",
      "promise                            2.3\r\n",
      "prompt-toolkit                     3.0.17\r\n",
      "protobuf                           3.17.2\r\n",
      "psutil                             5.8.0\r\n",
      "ptyprocess                         0.7.0\r\n",
      "py                                 1.10.0\r\n",
      "py-cpuinfo                         8.0.0\r\n",
      "pyarrow                            4.0.1\r\n",
      "pyasn1                             0.4.8\r\n",
      "pyasn1-modules                     0.2.8\r\n",
      "pycocotools                        2.0.2\r\n",
      "pycodestyle                        2.6.0\r\n",
      "pycosat                            0.6.3\r\n",
      "pycparser                          2.20\r\n",
      "pycurl                             7.43.0.6\r\n",
      "pydocstyle                         6.0.0\r\n",
      "pydot                              1.4.2\r\n",
      "pyerfa                             1.7.3\r\n",
      "pyflakes                           2.2.0\r\n",
      "Pygments                           2.8.1\r\n",
      "pylint                             2.7.4\r\n",
      "pyls-black                         0.4.6\r\n",
      "pyls-spyder                        0.3.2\r\n",
      "pymongo                            3.12.1\r\n",
      "pyodbc                             4.0.0-unsupported\r\n",
      "pyOpenSSL                          20.0.1\r\n",
      "pyparsing                          2.4.7\r\n",
      "PyQt5                              5.15.5\r\n",
      "PyQt5-Qt5                          5.15.2\r\n",
      "PyQt5-sip                          12.9.0\r\n",
      "PyQtWebEngine                      5.15.5\r\n",
      "PyQtWebEngine-Qt5                  5.15.2\r\n",
      "pyrsistent                         0.17.3\r\n",
      "PySocks                            1.7.1\r\n",
      "pytest                             6.2.3\r\n",
      "python-dateutil                    2.8.1\r\n",
      "python-jsonrpc-server              0.4.0\r\n",
      "python-language-server             0.36.2\r\n",
      "python-slugify                     5.0.2\r\n",
      "pytz                               2021.1\r\n",
      "PyWavelets                         1.1.1\r\n",
      "PyYAML                             5.4.1\r\n",
      "pyzmq                              20.0.0\r\n",
      "QDarkStyle                         2.8.1\r\n",
      "QtAwesome                          1.0.2\r\n",
      "qtconsole                          5.0.3\r\n",
      "QtPy                               1.9.0\r\n",
      "regex                              2021.4.4\r\n",
      "requests                           2.25.1\r\n",
      "requests-oauthlib                  1.3.0\r\n",
      "rope                               0.18.0\r\n",
      "rsa                                4.7.2\r\n",
      "Rtree                              0.9.7\r\n",
      "ruamel-yaml-conda                  0.15.100\r\n",
      "sacrebleu                          2.0.0\r\n",
      "scikit-image                       0.18.1\r\n",
      "scikit-learn                       0.24.1\r\n",
      "scipy                              1.6.2\r\n",
      "seaborn                            0.11.1\r\n",
      "Send2Trash                         1.5.0\r\n",
      "sentencepiece                      0.1.96\r\n",
      "seqeval                            1.2.2\r\n",
      "setuptools                         52.0.0.post20210125\r\n",
      "simplegeneric                      0.8.1\r\n",
      "singledispatch                     0.0.0\r\n",
      "six                                1.15.0\r\n",
      "sniffio                            1.2.0\r\n",
      "snowballstemmer                    2.1.0\r\n",
      "sortedcollections                  2.1.0\r\n",
      "sortedcontainers                   2.3.0\r\n",
      "soupsieve                          2.2.1\r\n",
      "Sphinx                             4.0.1\r\n",
      "sphinxcontrib-applehelp            1.0.2\r\n",
      "sphinxcontrib-devhelp              1.0.2\r\n",
      "sphinxcontrib-htmlhelp             1.0.3\r\n",
      "sphinxcontrib-jsmath               1.0.1\r\n",
      "sphinxcontrib-qthelp               1.0.3\r\n",
      "sphinxcontrib-serializinghtml      1.1.4\r\n",
      "sphinxcontrib-websupport           1.2.4\r\n",
      "spyder                             4.2.5\r\n",
      "spyder-kernels                     1.10.2\r\n",
      "SQLAlchemy                         1.4.7\r\n",
      "statsmodels                        0.12.2\r\n",
      "sympy                              1.8\r\n",
      "tables                             3.6.1\r\n",
      "tabulate                           0.8.9\r\n",
      "tblib                              1.7.0\r\n",
      "tensorboard                        2.7.0\r\n",
      "tensorboard-data-server            0.6.1\r\n",
      "tensorboard-plugin-wit             1.8.0\r\n",
      "tensorflow                         2.6.0\r\n",
      "tensorflow-addons                  0.14.0\r\n",
      "tensorflow-datasets                4.4.0\r\n",
      "tensorflow-estimator               2.6.0\r\n",
      "tensorflow-hub                     0.12.0\r\n",
      "tensorflow-metadata                1.2.0\r\n",
      "tensorflow-model-optimization      0.7.0\r\n",
      "tensorflow-text                    2.6.0\r\n",
      "termcolor                          1.1.0\r\n",
      "terminado                          0.9.4\r\n",
      "testpath                           0.4.4\r\n",
      "text-unidecode                     1.3\r\n",
      "textdistance                       4.2.1\r\n",
      "tf-models-official                 2.6.0\r\n",
      "tf-slim                            1.1.0\r\n",
      "threadpoolctl                      2.1.0\r\n",
      "three-merge                        0.1.1\r\n",
      "tifffile                           2020.10.1\r\n",
      "toml                               0.10.2\r\n",
      "toolz                              0.11.1\r\n",
      "tornado                            6.1\r\n",
      "tqdm                               4.59.0\r\n",
      "traitlets                          5.0.5\r\n",
      "typed-ast                          1.4.2\r\n",
      "typeguard                          2.13.0\r\n",
      "typing-extensions                  3.7.4.3\r\n",
      "ujson                              4.0.2\r\n",
      "unicodecsv                         0.14.1\r\n",
      "uritemplate                        4.1.1\r\n",
      "urllib3                            1.26.4\r\n",
      "watchdog                           1.0.2\r\n",
      "wcwidth                            0.2.5\r\n",
      "webencodings                       0.5.1\r\n",
      "Werkzeug                           1.0.1\r\n",
      "wheel                              0.36.2\r\n",
      "widgetsnbextension                 3.5.1\r\n",
      "wrapt                              1.12.1\r\n",
      "wurlitzer                          2.1.0\r\n",
      "xlrd                               2.0.1\r\n",
      "XlsxWriter                         1.3.8\r\n",
      "xlwings                            0.23.0\r\n",
      "xlwt                               1.3.0\r\n",
      "xmltodict                          0.12.0\r\n",
      "yapf                               0.31.0\r\n",
      "zict                               2.0.0\r\n",
      "zipp                               3.4.1\r\n",
      "zope.event                         4.5.0\r\n",
      "zope.interface                     5.3.0\r\n"
     ]
    }
   ],
   "source": [
    "!pip list"
   ]
  },
  {
   "cell_type": "code",
   "execution_count": 11,
   "metadata": {},
   "outputs": [],
   "source": [
    "LABELIMG_PATH = os.path.join('Tensorflow', 'labelimg')"
   ]
  },
  {
   "cell_type": "code",
   "execution_count": null,
   "metadata": {
    "scrolled": true
   },
   "outputs": [],
   "source": []
  },
  {
   "cell_type": "code",
   "execution_count": 12,
   "metadata": {},
   "outputs": [],
   "source": [
    "if not os.path.exists(LABELIMG_PATH):\n",
    "    !mkdir {LABELIMG_PATH}\n",
    "    !git clone https://github.com/tzutalin/labelImg {LABELIMG_PATH}"
   ]
  },
  {
   "cell_type": "code",
   "execution_count": 13,
   "metadata": {},
   "outputs": [
    {
     "name": "stdout",
     "output_type": "stream",
     "text": [
      "pyrcc5 -o libs/resources.py resources.qrc\r\n"
     ]
    }
   ],
   "source": [
    "if os.name == 'posix':\n",
    "    !cd {LABELIMG_PATH} && make qt5py3\n",
    "if os.name =='nt':\n",
    "    !cd {LABELIMG_PATH} && pyrcc5 -o libs/resources.py resources.qrc"
   ]
  },
  {
   "cell_type": "code",
   "execution_count": 14,
   "metadata": {},
   "outputs": [],
   "source": [
    "!cd {LABELIMG_PATH} && python labelImg.py"
   ]
  },
  {
   "cell_type": "markdown",
   "metadata": {},
   "source": [
    "# 6. Move them into a Training and Testing Partition"
   ]
  },
  {
   "cell_type": "markdown",
   "metadata": {},
   "source": [
    "# OPTIONAL - 7. Compress them for Colab Training"
   ]
  },
  {
   "cell_type": "code",
   "execution_count": 20,
   "metadata": {},
   "outputs": [],
   "source": [
    "TRAIN_PATH = os.path.join('Tensorflow', 'workspace', 'images', 'train')\n",
    "TEST_PATH = os.path.join('Tensorflow', 'workspace', 'images', 'test')\n",
    "ARCHIVE_PATH = os.path.join('Tensorflow', 'workspace', 'images', 'archive.tar.gz')"
   ]
  },
  {
   "cell_type": "code",
   "execution_count": 21,
   "metadata": {},
   "outputs": [],
   "source": [
    "!tar -czf {ARCHIVE_PATH} {TRAIN_PATH} {TEST_PATH}"
   ]
  },
  {
   "cell_type": "code",
   "execution_count": null,
   "metadata": {},
   "outputs": [],
   "source": []
  }
 ],
 "metadata": {
  "kernelspec": {
   "display_name": "Python 3",
   "language": "python",
   "name": "python3"
  },
  "language_info": {
   "codemirror_mode": {
    "name": "ipython",
    "version": 3
   },
   "file_extension": ".py",
   "mimetype": "text/x-python",
   "name": "python",
   "nbconvert_exporter": "python",
   "pygments_lexer": "ipython3",
   "version": "3.8.8"
  }
 },
 "nbformat": 4,
 "nbformat_minor": 2
}
